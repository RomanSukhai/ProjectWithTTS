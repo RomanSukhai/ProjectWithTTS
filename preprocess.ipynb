{
 "cells": [
  {
   "cell_type": "code",
   "execution_count": 4,
   "metadata": {
    "collapsed": true,
    "ExecuteTime": {
     "end_time": "2024-12-26T20:17:35.507465600Z",
     "start_time": "2024-12-26T20:17:33.811760800Z"
    }
   },
   "outputs": [],
   "source": [
    "import zipfile\n",
    "\n",
    "def process_text_files(zip_file_path, output_folder):\n",
    "    \"\"\"\n",
    "    Функція для обробки текстових файлів у ZIP-архіві.\n",
    "\n",
    "    Args:\n",
    "        zip_file_path: Шлях до ZIP-архіву.\n",
    "        output_folder: Папка для розпакування та збереження оброблених файлів.\n",
    "    \"\"\"\n",
    "\n",
    "    # Розпаковуємо ZIP-архів\n",
    "    with zipfile.ZipFile(zip_file_path, 'r') as zip_ref:\n",
    "        zip_ref.extractall(output_folder)\n",
    "\n",
    "    # Список текстових файлів для обробки\n",
    "    text_files = ['metadata.csv', 'metadata_phonetical.csv', 'training.csv', 'validation.csv']\n",
    "\n",
    "    for file in text_files:\n",
    "        with open(f\"{output_folder}/{file}\", 'r',encoding=\"utf-8\") as infile, \\\n",
    "             open(f\"{output_folder}/processed_{file}\", 'w',encoding=\"utf-8\") as outfile:\n",
    "            for line in infile:\n",
    "                # Видаляємо зайві пробіли та обробляємо рядок\n",
    "                processed_line = line.strip().replace('/processed_data/wavs/', '')\n",
    "                outfile.write(processed_line + '\\n')\n",
    "\n",
    "# Приклад використання:\n",
    "zip_file = 'processed_data.zip'\n",
    "output_dir = 'processed_data/processed_data'\n",
    "process_text_files(zip_file, output_dir)"
   ]
  },
  {
   "cell_type": "code",
   "execution_count": null,
   "outputs": [],
   "source": [],
   "metadata": {
    "collapsed": false
   }
  }
 ],
 "metadata": {
  "kernelspec": {
   "display_name": "Python 3",
   "language": "python",
   "name": "python3"
  },
  "language_info": {
   "codemirror_mode": {
    "name": "ipython",
    "version": 2
   },
   "file_extension": ".py",
   "mimetype": "text/x-python",
   "name": "python",
   "nbconvert_exporter": "python",
   "pygments_lexer": "ipython2",
   "version": "2.7.6"
  }
 },
 "nbformat": 4,
 "nbformat_minor": 0
}
